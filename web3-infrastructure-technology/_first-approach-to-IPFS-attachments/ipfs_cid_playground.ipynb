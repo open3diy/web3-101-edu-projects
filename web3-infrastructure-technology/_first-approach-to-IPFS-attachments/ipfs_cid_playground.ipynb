{
 "cells": [
  {
   "cell_type": "markdown",
   "metadata": {},
   "source": [
    "Jugando con [CID](https://docs.ipfs.eth.link/concepts/content-addressing/).\n",
    "\n",
    "CID, se define como una etiqueta autodescriptiva, que identifica el contenido, que se utiliza para señalar los datos almacenados en IPFS. Este ejemplo pretende aclarar esta definición.\n",
    "\n",
    "Existen 2 versiones para representar un CID, basicamente porque se partió de una versión, que ahora se conoce como v0 que fue mejorada a v1 para soportar más formatos y ser más flexible:\n",
    "\n",
    "\n",
    "CID v0:\n",
    "\n",
    "* Siempre comienza con `Qm`.\n",
    "* Solo admite un formato fijo `dag-pb` y hash SHA-256, sin soporte para otros codecs o hashes.\n",
    "  > `dag-pb` es el formato de serialización por defecto en CID v0, basado en [Protocol Buffers](https://protobuf.dev/), utilizado por IPFS para contener el bloque del contenido, que incluye metadatos UnixFS del archivos o directorios que forma parte y las relaciones a bloques hijos. Ve a la práctica para [entender IPLD](practice-understand-IPLD.md) si quieres más contexto.\n",
    "* Sensible a mayúsculas/minúsculas, menos adecuado para URLs.\n",
    "\n",
    "CID v1:\n",
    "\n",
    "* Puede comenzar con distintos prefijos (b, z, etc.) según la codificación (Base32, Base58...).\n",
    "* Soporta múltiples codecs para identificar mejor el fragmento del contenido y puede usar varios algoritmos de hash.\n",
    "* No distingue mayúsculas/minúsculas, ideal para usar en URLs y subdominios.\n",
    "\n",
    "---"
   ]
  },
  {
   "cell_type": "markdown",
   "metadata": {},
   "source": [
    "**Ejemplo v1**.\n",
    "\n",
    "El ejemplo que se muestra se basa en CID Inspector, por lo que debes acceder a:\n",
    "<https://cid.ipfs.tech/#bafkreifzlpgwving46m34a6exyiaj6a6fwruydheyvwvqv36jel73jyjja>\n",
    "\n",
    "\n",
    "Aquí se intenta aclarar cada concepto paso a paso.\n",
    "\n",
    "> Por favor, ejecuta una a una cada celda de códgo para que no falle."
   ]
  },
  {
   "cell_type": "code",
   "execution_count": 1,
   "metadata": {},
   "outputs": [
    {
     "name": "stdout",
     "output_type": "stream",
     "text": [
      "El CID bafkreifzlpgwving46m34a6exyiaj6a6fwruydheyvwvqv36jel73jyjja\n"
     ]
    }
   ],
   "source": [
    "cid = \"bafkreifzlpgwving46m34a6exyiaj6a6fwruydheyvwvqv36jel73jyjja\"\n",
    "\n",
    "print(f\"El CID {cid}\")"
   ]
  },
  {
   "cell_type": "markdown",
   "metadata": {},
   "source": [
    "El 1º caracter, la \"b\", es un multibase, quiere decir que el contenido puede estar codificado en diferentes bases.\n",
    "\n",
    "Los posibles valores en <https://github.com/multiformats/multibase>\n",
    "\n",
    "En este ejemplo, la \"b\" indica que el resto de contenido es base32 y en minúsculas (porque se tiene en cuenta).\n",
    "\n",
    "Comunmente puede ser:\n",
    "- 'z': indica base58btc (CIDv0)\n",
    "- 'b': base32 (CIDv1, minúsculas).\n",
    "- 'B': base32 (CIDv1, mayúsculas).\n",
    "- 'f': base16 (CIDv1, hexadecimal).\n",
    "\n",
    "> Que empieze por 'Q' indica que es CID v0, no es un multibase.\n",
    "\n",
    "Así que quitamos el multibase, la \"b\", y nos quedamos con el resto del valor que es la concatenación de version + multicodec + multihash \n",
    "\n",
    "Igualmente tiene el adjetivo \"multi\" porque implica que puede tener multiples valores, es simplemente una forma de llamarlo, es decir, se refiere al code usado y el valor del hash."
   ]
  },
  {
   "cell_type": "code",
   "execution_count": 2,
   "metadata": {},
   "outputs": [
    {
     "name": "stdout",
     "output_type": "stream",
     "text": [
      "El valor es afkreifzlpgwving46m34a6exyiaj6a6fwruydheyvwvqv36jel73jyjja\n"
     ]
    }
   ],
   "source": [
    "cid_body = cid[1:]  # quitar 'b'\n",
    "print(f\"El valor es {cid_body}\")"
   ]
  },
  {
   "cell_type": "markdown",
   "metadata": {},
   "source": [
    "Sabemos que es base32 así que tenemos que tenerlo en cuenta para pasarlo a hexadecimal.\n",
    "\n",
    "Pero antes corregimos el valor para que coincida con el padding (relleno) de base32, agregando \"=\" hasta completar la longuitud multiple de 8."
   ]
  },
  {
   "cell_type": "code",
   "execution_count": 3,
   "metadata": {},
   "outputs": [
    {
     "name": "stdout",
     "output_type": "stream",
     "text": [
      "Corregimos el padding para pasar a base32 AFKREIFZLPGWVING46M34A6EXYIAJ6A6FWRUYDHEYVWVQV36JEL73JYJJA======\n"
     ]
    }
   ],
   "source": [
    "missing_padding = (8 - len(cid_body) % 8) % 8\n",
    "cid_body_padded = cid_body.upper() + \"=\" * missing_padding\n",
    "print(f\"Corregimos el padding para pasar a base32 {cid_body_padded}\")"
   ]
  },
  {
   "cell_type": "markdown",
   "metadata": {},
   "source": [
    "Pasamos de base32 a hexadecimal"
   ]
  },
  {
   "cell_type": "code",
   "execution_count": 4,
   "metadata": {},
   "outputs": [
    {
     "name": "stdout",
     "output_type": "stream",
     "text": [
      "En hexadecimal el valor es 0x01551220b95bcd6aa1a6e799be03c4be1004f81e2da34c0ce4c56d58577e4917fda70948\n"
     ]
    }
   ],
   "source": [
    "import base64\n",
    "cid_bytes = base64.b32decode(cid_body_padded)\n",
    "cid_hex = cid_bytes.hex()\n",
    "print(f\"En hexadecimal el valor es 0x{cid_hex}\")"
   ]
  },
  {
   "cell_type": "markdown",
   "metadata": {},
   "source": [
    "Tenemos que extaer version + multicodec + multihash "
   ]
  },
  {
   "cell_type": "markdown",
   "metadata": {},
   "source": [
    "Extraemos el valor de versión, que es la posición 1 y 2.\n",
    "\n",
    "Las posibles versiones lo vemos en: <https://github.com/multiformats/cid?tab=readme-ov-file#versions>\n",
    "\n",
    "PD: evidentemente es la version 1, porque el multibase \"b\" ya nos lo indicaba."
   ]
  },
  {
   "cell_type": "code",
   "execution_count": 5,
   "metadata": {},
   "outputs": [
    {
     "name": "stdout",
     "output_type": "stream",
     "text": [
      "Versión: 0x01\n"
     ]
    }
   ],
   "source": [
    "cod_version = cid_hex[0:2]\n",
    "print(f\"Versión: 0x{cod_version}\")"
   ]
  },
  {
   "cell_type": "markdown",
   "metadata": {},
   "source": [
    "> Ahora es obvio que es v1, si fuera v0 empezaría por `Qm`, pero hay que entender que se crea el formato para que pueda evolucionar, por ejemplo, podría ser la v2, que actualmente no existe, pero se deja la posibilidad."
   ]
  },
  {
   "cell_type": "markdown",
   "metadata": {},
   "source": [
    "Ahora extraemos el multicodec, que es la posición 3 y 4.\n",
    "\n",
    "Los posibles valores en <https://github.com/multiformats/multicodec>\n",
    "\n",
    "El multicodec describe el formato del contenido apuntado por el CID, no el contenido en sí. Le dice al nodo de IPFS cómo decodificar el bloque, que en ejemplos comunes puede ser:\n",
    "- raw: bytes sin estructura.\n",
    "- dag-pb: como ya explicamos, estructura tipo protobuf, usado en IPFS para representar directorios y archivos en sistemas tipo UnixFS\n",
    "- dag-cbor: objetos serializados tipo JSON binario.\n",
    "- dag-json: JSON directo."
   ]
  },
  {
   "cell_type": "code",
   "execution_count": 6,
   "metadata": {},
   "outputs": [
    {
     "name": "stdout",
     "output_type": "stream",
     "text": [
      "Código multicodec: 0x55\n",
      "Nombre y descripción: raw, raw binary\n"
     ]
    }
   ],
   "source": [
    "# Para mostrar el nombre del multicodec, usamos la libreria multiformats\n",
    "from multiformats import multicodec\n",
    "\n",
    "cod_multicodec = cid_hex[2:4]\n",
    "cod_multicodec_hex_to_dec = int(cod_multicodec,16) # convertir de hexadecimal a entero\n",
    "codec = multicodec.get(code=cod_multicodec_hex_to_dec)\n",
    "print(f\"Código multicodec: 0x{cod_multicodec}\")\n",
    "print(f\"Nombre y descripción: {codec.name}, {codec.description}\")"
   ]
  },
  {
   "cell_type": "markdown",
   "metadata": {},
   "source": [
    "Ahora extraemos el multihash: https://github.com/multiformats/multihash\n",
    "\n",
    "Está compuesto por el código, longuitud y digest (es decir, el valor tras aplicar la función hash)"
   ]
  },
  {
   "cell_type": "markdown",
   "metadata": {},
   "source": [
    "El código de multihash, posición 5 y 6.\n",
    "\n",
    "Indica el algoritmo usado para genear el hash."
   ]
  },
  {
   "cell_type": "code",
   "execution_count": 7,
   "metadata": {},
   "outputs": [
    {
     "name": "stdout",
     "output_type": "stream",
     "text": [
      "Código: 0x12\n",
      "Nombre: sha2-256\n"
     ]
    }
   ],
   "source": [
    "cod_multihash = cid_hex[4:6]\n",
    "cod_multihash_int = int(cod_multihash, 16) # pasarlo de hexadecimal a entero\n",
    "mh = multicodec.get(code=cod_multihash_int)\n",
    "print(f\"Código: 0x{cod_multihash}\")\n",
    "print(f\"Nombre: {mh.name}\")"
   ]
  },
  {
   "cell_type": "markdown",
   "metadata": {},
   "source": [
    "La longuitud del multihash, posición 7 y 8\n",
    "\n",
    "> En teoría el código 0x12 (sha2-256) ya implica 32 bytes, pero se incluye la longitud explícitamente por diseño de Multihash."
   ]
  },
  {
   "cell_type": "code",
   "execution_count": 9,
   "metadata": {},
   "outputs": [
    {
     "name": "stdout",
     "output_type": "stream",
     "text": [
      "Longuitud 0x20 o 32 bits\n"
     ]
    }
   ],
   "source": [
    "len_multihash = cid_hex[6:8]\n",
    "print(f\"Longuitud 0x{len_multihash} o {int(len_multihash,16)} bits\")"
   ]
  },
  {
   "cell_type": "markdown",
   "metadata": {},
   "source": [
    "El valor digest, es decir, el propio hash aplicando la función concreta que se especifica en multicodec.\n",
    "\n",
    "Posición desde 9 al final."
   ]
  },
  {
   "cell_type": "code",
   "execution_count": 10,
   "metadata": {},
   "outputs": [
    {
     "name": "stdout",
     "output_type": "stream",
     "text": [
      "Digest: B95BCD6AA1A6E799BE03C4BE1004F81E2DA34C0CE4C56D58577E4917FDA70948\n"
     ]
    }
   ],
   "source": [
    "digestMultiHash_hex = cid_hex[8:]\n",
    "print(f\"Digest: {digestMultiHash_hex.upper()}\")"
   ]
  },
  {
   "cell_type": "markdown",
   "metadata": {},
   "source": [
    "Ahora el propio multihash, se puede representar en base32 (la propia multibase) para que sea más legible"
   ]
  },
  {
   "cell_type": "code",
   "execution_count": 11,
   "metadata": {},
   "outputs": [
    {
     "name": "stdout",
     "output_type": "stream",
     "text": [
      "El multibase del valor digest es: bciqlsw6nnkq2nz4zxyb4jpqqat4b4lndjqgojrlnlblx4six7wtqssa\n"
     ]
    }
   ],
   "source": [
    "digest_bytes = bytes.fromhex(digestMultiHash_hex)\n",
    "\n",
    "# Construir el multihash: <multihash><length><digest>\n",
    "\n",
    "hex_length = int(len_multihash, 16)\n",
    "hex_codMultihasg =  int(cod_multihash, 16)\n",
    "\n",
    "multihash_bytes = bytes([hex_codMultihasg, hex_length]) + digest_bytes\n",
    "\n",
    "# Codificar en base32 (sin padding, en minúsculas, con prefijo 'b')\n",
    "multihash_b32 = \"b\" + base64.b32encode(multihash_bytes).decode(\"utf-8\").lower().rstrip(\"=\")\n",
    "print(f\"El multibase del valor digest es: {multihash_b32}\")"
   ]
  },
  {
   "cell_type": "markdown",
   "metadata": {},
   "source": [
    "Y con el CID, el nodo de IPFS consigue:\n",
    "\n",
    "- Saber cómo decodificar el bloque de datos (gracias al multicodec).\n",
    "- Identificar el algoritmo hash utilizado y la longitud esperada (por el multihash).\n",
    "- Validar la integridad del contenido, comprobando que el hash calculado sobre los datos coincide con el digest incluido en el CID.\n",
    "\n",
    "Esto permite garantizar que los datos recuperados no han sido alterados y corresponden exactamente al contenido solicitado."
   ]
  },
  {
   "cell_type": "markdown",
   "metadata": {},
   "source": [
    "---"
   ]
  },
  {
   "cell_type": "markdown",
   "metadata": {},
   "source": [
    "**Ejemplo v0**.\n",
    "\n",
    "El ejemplo que se muestra se basa en CID Inspector, por lo que debes acceder a:\n",
    "<https://cid.ipfs.tech/#QmYwAPJzv5CZsnAztbCXDpM7n6Vx4Bqs5T6zyd5oMv5E9g>\n",
    "\n",
    "\n",
    "Igualmente, aquí se intenta aclarar cada concepto paso a paso para v0.\n",
    "\n",
    "> Por favor, ejecuta una a una cada celda de códgo para que no falle.\n",
    "\n",
    "---"
   ]
  },
  {
   "cell_type": "code",
   "execution_count": 12,
   "metadata": {},
   "outputs": [
    {
     "name": "stdout",
     "output_type": "stream",
     "text": [
      "El CID QmYwAPJzv5CZsnAztbCXDpM7n6Vx4Bqs5T6zyd5oMv5E9g\n"
     ]
    }
   ],
   "source": [
    "cid = \"QmYwAPJzv5CZsnAztbCXDpM7n6Vx4Bqs5T6zyd5oMv5E9g\"\n",
    "\n",
    "print(f\"El CID {cid}\")"
   ]
  },
  {
   "cell_type": "markdown",
   "metadata": {},
   "source": [
    "El valor 'Qm' es implicito indicnado para v0 ques base58btc, por lo tanto, no se intenta identificar el multicode.\n",
    "\n",
    "Igualmente, no hay multihash, es siempre sha256."
   ]
  },
  {
   "cell_type": "markdown",
   "metadata": {},
   "source": [
    "Pasamos de base58BTC a hexadecimal"
   ]
  },
  {
   "cell_type": "code",
   "execution_count": 13,
   "metadata": {},
   "outputs": [
    {
     "name": "stdout",
     "output_type": "stream",
     "text": [
      "En hexadecimal el valor es 0x12209d6c2be50f70695347c6dc417a3bef89d7bc95b7f08ed5ccd87106a4ed7563bb\n"
     ]
    }
   ],
   "source": [
    "import base58\n",
    "\n",
    "cid_bytes = base58.b58decode(cid)\n",
    "cid_hex = cid_bytes.hex()\n",
    "print(f\"En hexadecimal el valor es 0x{cid_hex}\")"
   ]
  },
  {
   "cell_type": "markdown",
   "metadata": {},
   "source": [
    "Ahora extraemos el multihash: https://github.com/multiformats/multihash\n",
    "\n",
    "Está compuesto por el código, longuitud y digest (es decir, el valor tras aplicar la función hash)"
   ]
  },
  {
   "cell_type": "markdown",
   "metadata": {},
   "source": [
    "El código de multihash, posición 1 y 2.\n",
    "\n",
    "Indica el algoritmo usado para genear el hash, que será en realiada siempre SHA-256"
   ]
  },
  {
   "cell_type": "code",
   "execution_count": 14,
   "metadata": {},
   "outputs": [
    {
     "name": "stdout",
     "output_type": "stream",
     "text": [
      "18\n",
      "Código: 0x12\n",
      "Nombre: sha2-256\n"
     ]
    }
   ],
   "source": [
    "# Para mostrar el nombre del multicodec, usamos la libreria multiformats\n",
    "from multiformats import multicodec\n",
    "\n",
    "cod_multihash = cid_hex[0:2]\n",
    "cod_multihash_int = int(cod_multihash, 16) # pasarlo de hexadecimal a entero\n",
    "print(cod_multihash_int)\n",
    "mh = multicodec.get(code=cod_multihash_int)\n",
    "print(f\"Código: 0x{cod_multihash}\")\n",
    "print(f\"Nombre: {mh.name}\")"
   ]
  },
  {
   "cell_type": "markdown",
   "metadata": {},
   "source": [
    "La longuitud del multihash, posición 3 y 4"
   ]
  },
  {
   "cell_type": "code",
   "execution_count": 16,
   "metadata": {},
   "outputs": [
    {
     "name": "stdout",
     "output_type": "stream",
     "text": [
      "12209d6c2be50f70695347c6dc417a3bef89d7bc95b7f08ed5ccd87106a4ed7563bb\n",
      "Longuitud 0x20 o 32 bits\n"
     ]
    }
   ],
   "source": [
    "print(cid_hex)\n",
    "len_multihash = cid_hex[2:4]\n",
    "print(f\"Longuitud 0x{len_multihash} o {int(len_multihash,16)} bits\")"
   ]
  },
  {
   "cell_type": "markdown",
   "metadata": {},
   "source": [
    "El valor digest, es decir, el propio hash aplicando la función concreta que se especifica en multicodec.\n",
    "\n",
    "Posición desde 5 al final."
   ]
  },
  {
   "cell_type": "code",
   "execution_count": 17,
   "metadata": {},
   "outputs": [
    {
     "name": "stdout",
     "output_type": "stream",
     "text": [
      "Digest: 9D6C2BE50F70695347C6DC417A3BEF89D7BC95B7F08ED5CCD87106A4ED7563BB\n"
     ]
    }
   ],
   "source": [
    "digestMultiHash_hex = cid_hex[4:]\n",
    "print(f\"Digest: {digestMultiHash_hex.upper()}\")"
   ]
  },
  {
   "cell_type": "markdown",
   "metadata": {},
   "source": [
    "Ahora multihash, se puede representa como multibase para que sea más legible"
   ]
  },
  {
   "cell_type": "code",
   "execution_count": 18,
   "metadata": {},
   "outputs": [
    {
     "name": "stdout",
     "output_type": "stream",
     "text": [
      "El multibase del valor digest es: zQmYwAPJzv5CZsnAztbCXDpM7n6Vx4Bqs5T6zyd5oMv5E9g\n"
     ]
    }
   ],
   "source": [
    "import base58\n",
    "\n",
    "digest_bytes = bytes.fromhex(digestMultiHash_hex)\n",
    "\n",
    "# Construir el multihash: <multihash><length><digest>\n",
    "\n",
    "hex_length = int(len_multihash, 16)\n",
    "hex_codMultihasg =  int(cod_multihash, 16)\n",
    "\n",
    "multihash_bytes = bytes([hex_codMultihasg, hex_length]) + digest_bytes\n",
    "\n",
    "# Codificar en base32 (sin padding, en minúsculas, con prefijo 'b')\n",
    "multihash_b58btc = base58.b58encode(multihash_bytes).decode(\"utf-8\")\n",
    "\n",
    "# Agregar el prefijo 'z' para indicar que es base58btc\n",
    "multibase_b58btc = \"z\" + multihash_b58btc\n",
    "print(f\"El multibase del valor digest es: {multibase_b58btc}\")"
   ]
  },
  {
   "cell_type": "markdown",
   "metadata": {},
   "source": [
    "**Ejemplo pasando de v0 a v1**.\n",
    "\n",
    "Cuando un nodo gateway de IPFS recibe una petición con un CID v0, por ejemplo, en una URL como <https://gateway-ipfs.tld/ipfs/QmYwAPJzv5CZsnAztbCXDpM7n6Vx4Bqs5T6zyd5oMv5E9g>, internamente lo convierte a un CID v1 codificado en Base32 y, en muchos casos, responde redirigiendo la solicitud a una nueva URL con ese CID v1, ya que este formato es más adecuado para su uso en subdominios, compatible con DNS, insensible a mayúsculas para entornos web.\n",
    "\n",
    "Vamos a ver este ejemplo de pasar de v0 a v1:"
   ]
  },
  {
   "cell_type": "code",
   "execution_count": 19,
   "metadata": {},
   "outputs": [
    {
     "name": "stdout",
     "output_type": "stream",
     "text": [
      "CID v0: QmYwAPJzv5CZsnAztbCXDpM7n6Vx4Bqs5T6zyd5oMv5E9g\n",
      "CID v1: bafybeie5nqv6kd3qnfjuprw4if5dx34j266jln7qr3k4zwdra2so25ldxm\n"
     ]
    }
   ],
   "source": [
    "import base58\n",
    "import base64\n",
    "\n",
    "# CID v0\n",
    "cid_v0 = \"QmYwAPJzv5CZsnAztbCXDpM7n6Vx4Bqs5T6zyd5oMv5E9g\"\n",
    "print(f\"CID v0: {cid_v0}\")\n",
    "\n",
    "# Decodificamos el CID v0 de base58btc a bytes\n",
    "cid_bytes = base58.b58decode(cid_v0)\n",
    "\n",
    "# Para v1, incluimos el prefijo de versión (0x01) y el multicodec 'dag-pb' (0x70)\n",
    "# El multicodec 'dag-pb' (0x70) se utiliza porque los CIDs v0 siempre apuntan a bloques de datos en formato 'dag-pb' en IPFS.\n",
    "cid_v1_bytes = b'\\x01\\x70' + cid_bytes\n",
    "\n",
    "# Codificamos en base32 (minúsculas, sin padding) y anteponemos 'b' que es el multibase para CID v1\n",
    "cid_v1_b32 = \"b\" + base64.b32encode(cid_v1_bytes).decode(\"utf-8\").lower().rstrip(\"=\")\n",
    "\n",
    "print(f\"CID v1: {cid_v1_b32}\")"
   ]
  },
  {
   "cell_type": "markdown",
   "metadata": {},
   "source": [
    "> Ahora si vuelves a https://cid.ipfs.tech/#QmYwAPJzv5CZsnAztbCXDpM7n6Vx4Bqs5T6zyd5oMv5E9g ya verás como se genera el CIDV1 (BASE32)"
   ]
  }
 ],
 "metadata": {
  "kernelspec": {
   "display_name": ".venv-web3-edu-projects",
   "language": "python",
   "name": "python3"
  },
  "language_info": {
   "codemirror_mode": {
    "name": "ipython",
    "version": 3
   },
   "file_extension": ".py",
   "mimetype": "text/x-python",
   "name": "python",
   "nbconvert_exporter": "python",
   "pygments_lexer": "ipython3",
   "version": "3.12.3"
  }
 },
 "nbformat": 4,
 "nbformat_minor": 2
}
