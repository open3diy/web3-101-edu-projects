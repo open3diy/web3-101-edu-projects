{
 "cells": [
  {
   "cell_type": "markdown",
   "metadata": {},
   "source": [
    "Jugando con CID.\n",
    "\n",
    "> Por favor, ejecuta una a una cada celda de códgo para que no falle.\n",
    "\n",
    "Este ejemplo es para aclarar cómo se obtienen los valores que vemos en la CID Inspector para el ejemplo: \n",
    "\n",
    "<https://cid.ipfs.tech/#bafkreifzlpgwving46m34a6exyiaj6a6fwruydheyvwvqv36jel73jyjja>\n"
   ]
  },
  {
   "cell_type": "code",
   "execution_count": 1,
   "metadata": {},
   "outputs": [
    {
     "name": "stdout",
     "output_type": "stream",
     "text": [
      "El CID bafkreifzlpgwving46m34a6exyiaj6a6fwruydheyvwvqv36jel73jyjja\n"
     ]
    }
   ],
   "source": [
    "from src.ipfs_cid_playground import *\n",
    "\n",
    "cid = \"bafkreifzlpgwving46m34a6exyiaj6a6fwruydheyvwvqv36jel73jyjja\"\n",
    "\n",
    "print(f\"El CID {cid}\")"
   ]
  },
  {
   "cell_type": "markdown",
   "metadata": {},
   "source": [
    "El 1º caracter, la \"b\", es un multibase, quiere decir que el contenido puede estar codificado en diferentes bases.\n",
    "\n",
    "Los posibles valores en <https://github.com/multiformats/multibase>\n",
    "\n",
    "En este ejemplo, la \"b\" indica que el resto de contenido es base32 y en minúsculas (porque se tiene en cuenta)\n",
    "Comunmente puede ser:\n",
    "- 'Q': indica base58btc (CIDv0).\n",
    "- 'b': base32 (CIDv1, minúsculas).\n",
    "- 'B': base32 (CIDv1, mayúsculas).\n",
    "- 'f': base16 (CIDv1, hexadecimal).\n",
    "\n",
    "Así que quitamos el multibase, la \"b\", y nos quedamos con el resto del valor que es la concatenación de version + multicodec + multihash \n",
    "\n",
    "Igualmente tiene el adjetivo \"multi\" porque implica que puede tener multiples valores, es simplemente una forma de llamarlo."
   ]
  },
  {
   "cell_type": "code",
   "execution_count": 2,
   "metadata": {},
   "outputs": [
    {
     "name": "stdout",
     "output_type": "stream",
     "text": [
      "El valor es afkreifzlpgwving46m34a6exyiaj6a6fwruydheyvwvqv36jel73jyjja\n"
     ]
    }
   ],
   "source": [
    "cid_body = cid[1:]  # quitar 'b'\n",
    "print(f\"El valor es {cid_body}\")\n"
   ]
  },
  {
   "cell_type": "markdown",
   "metadata": {},
   "source": [
    "Sabemos que es base32 así que tenemos que tenerlo en cuenta para codificarlo a hexadecimal.\n",
    "\n",
    "Pero antes corregimos el valor para que coincida con el padding (relleno) de base32, agregando \"=\" hasta completar la longuitud multiple de 8."
   ]
  },
  {
   "cell_type": "code",
   "execution_count": 3,
   "metadata": {},
   "outputs": [
    {
     "name": "stdout",
     "output_type": "stream",
     "text": [
      "Corregimos el padding para pasar a base32 AFKREIFZLPGWVING46M34A6EXYIAJ6A6FWRUYDHEYVWVQV36JEL73JYJJA======\n"
     ]
    }
   ],
   "source": [
    "missing_padding = (8 - len(cid_body) % 8) % 8\n",
    "cid_body_padded = cid_body.upper() + \"=\" * missing_padding\n",
    "print(f\"Corregimos el padding para pasar a base32 {cid_body_padded}\")"
   ]
  },
  {
   "cell_type": "markdown",
   "metadata": {},
   "source": [
    "Pasamos de base32 a hexadecimal"
   ]
  },
  {
   "cell_type": "code",
   "execution_count": 4,
   "metadata": {},
   "outputs": [
    {
     "name": "stdout",
     "output_type": "stream",
     "text": [
      "En hexadecimal el valor es 0x01551220b95bcd6aa1a6e799be03c4be1004f81e2da34c0ce4c56d58577e4917fda70948\n"
     ]
    }
   ],
   "source": [
    "import base64\n",
    "cid_bytes = base64.b32decode(cid_body_padded)\n",
    "cid_hex = cid_bytes.hex()\n",
    "print(f\"En hexadecimal el valor es 0x{cid_hex}\")"
   ]
  },
  {
   "cell_type": "markdown",
   "metadata": {},
   "source": [
    "Tenemos que extaer version + multicodec + multihash "
   ]
  },
  {
   "cell_type": "markdown",
   "metadata": {},
   "source": [
    "Extraemos el valor de versión, que es la posición 1 y 2.\n",
    "\n",
    "Las posibles versiones lo vemos en: <https://github.com/multiformats/cid?tab=readme-ov-file#versions>\n",
    "\n",
    "PD: evidentemente es la version 1, porque el multibase \"b\" ya nos lo indicaba."
   ]
  },
  {
   "cell_type": "code",
   "execution_count": 5,
   "metadata": {},
   "outputs": [
    {
     "name": "stdout",
     "output_type": "stream",
     "text": [
      "Versión: 0x01\n"
     ]
    }
   ],
   "source": [
    "cod_version = cid_hex[0:2]\n",
    "print(f\"Versión: 0x{cod_version}\")"
   ]
  },
  {
   "cell_type": "markdown",
   "metadata": {},
   "source": [
    "Ahora extraemos el multicodec, que es la posición 3 y 4.\n",
    "\n",
    "Los posibles valores en <https://github.com/multiformats/multicodec>\n",
    "\n",
    "El multicodec describe el formato del contenido apuntado por el CID, no el contenido en sí. Le dice al nodo de IPFS cómo decodificar el bloque, que en ejemplos comunes puede ser:\n",
    "- raw: bytes sin estructura.\n",
    "- dag-pb: estructura tipo protobuf, usado en IPFS para representar directorios y archivos en sistemas tipo UnixFS\n",
    "- dag-cbor: objetos serializados tipo JSON binario.\n",
    "- dag-json: JSON directo."
   ]
  },
  {
   "cell_type": "code",
   "execution_count": 9,
   "metadata": {},
   "outputs": [
    {
     "name": "stdout",
     "output_type": "stream",
     "text": [
      "Código multicodec: 0x55\n",
      "Nombre y descripción: raw, raw binary\n"
     ]
    }
   ],
   "source": [
    "# Para mostrar el nombre del multicodec, usamos la libreria multiformats\n",
    "from multiformats import multicodec\n",
    "\n",
    "cod_multicodec = cid_hex[2:4]\n",
    "cod_multicodec_hex_to_dec = int(cod_multicodec,16) # convertir de hexadecimal a entero\n",
    "codec = multicodec.get(code=cod_multicodec_hex_to_dec)\n",
    "print(f\"Código multicodec: 0x{cod_multicodec}\")\n",
    "print(f\"Nombre y descripción: {codec.name}, {codec.description}\")"
   ]
  },
  {
   "cell_type": "markdown",
   "metadata": {},
   "source": [
    "Ahora extraemos el multihash: https://github.com/multiformats/multihash\n",
    "\n",
    "Está compuesto por el código, longuitud y digest (es decir, el valor tras aplicar la función hash)"
   ]
  },
  {
   "cell_type": "markdown",
   "metadata": {},
   "source": [
    "El código de multihash, posición 5 y 6.\n",
    "\n",
    "Indica el algoritmo usado para genear el hash."
   ]
  },
  {
   "cell_type": "code",
   "execution_count": 10,
   "metadata": {},
   "outputs": [
    {
     "name": "stdout",
     "output_type": "stream",
     "text": [
      "Código: 0x12\n",
      "Nombre: sha2-256\n"
     ]
    }
   ],
   "source": [
    "cod_multihash = cid_hex[4:6]\n",
    "cod_multihash_int = int(cod_multihash, 16) # pasarlo de hexadecimal a entero\n",
    "mh = multicodec.get(code=cod_multihash_int)\n",
    "print(f\"Código: 0x{cod_multihash}\")\n",
    "print(f\"Nombre: {mh.name}\")"
   ]
  },
  {
   "cell_type": "markdown",
   "metadata": {},
   "source": [
    "La longuitud del multihash, posición 7 y 8\n",
    "\n",
    "En teoría el código 0x12 (sha2-256) ya implica 32 bytes, pero se incluye la longitud explícitamente por diseño de Multihash."
   ]
  },
  {
   "cell_type": "code",
   "execution_count": 11,
   "metadata": {},
   "outputs": [
    {
     "name": "stdout",
     "output_type": "stream",
     "text": [
      "Longuitud 0x20 o 32 en decimal\n"
     ]
    }
   ],
   "source": [
    "len_multihash = cid_hex[6:8]\n",
    "print(f\"Longuitud 0x{len_multihash} o {int(len_multihash,16)} en decimal\")"
   ]
  },
  {
   "cell_type": "markdown",
   "metadata": {},
   "source": [
    "El valor digest, es decir, el propio hash aplicando la función concreta que se especifica en multicodec.\n",
    "\n",
    "Posición desde 9 al final."
   ]
  },
  {
   "cell_type": "code",
   "execution_count": 12,
   "metadata": {},
   "outputs": [
    {
     "name": "stdout",
     "output_type": "stream",
     "text": [
      "Digest: b95bcd6aa1a6e799be03c4be1004f81e2da34c0ce4c56d58577e4917fda70948\n"
     ]
    }
   ],
   "source": [
    "digestMultiHash_hex = cid_hex[8:]\n",
    "print(f\"Digest: {digestMultiHash_hex}\")"
   ]
  },
  {
   "cell_type": "markdown",
   "metadata": {},
   "source": [
    "Ahora el propio multihash, se puede representa a base32 (la propia multibase) para que sea más legible"
   ]
  },
  {
   "cell_type": "code",
   "execution_count": 13,
   "metadata": {},
   "outputs": [
    {
     "name": "stdout",
     "output_type": "stream",
     "text": [
      "El multibase del valor digest es: bciqlsw6nnkq2nz4zxyb4jpqqat4b4lndjqgojrlnlblx4six7wtqssa\n"
     ]
    }
   ],
   "source": [
    "digest_bytes = bytes.fromhex(digestMultiHash_hex)\n",
    "\n",
    "# Construir el multihash: <multihash><length><digest>\n",
    "\n",
    "hex_length = int(len_multihash, 16)\n",
    "hex_codMultihasg =  int(cod_multihash, 16)\n",
    "\n",
    "multihash_bytes = bytes([hex_codMultihasg, hex_length]) + digest_bytes\n",
    "\n",
    "# Codificar en base32 (sin padding, en minúsculas, con prefijo 'b')\n",
    "multihash_b32 = \"b\" + base64.b32encode(multihash_bytes).decode(\"utf-8\").lower().rstrip(\"=\")\n",
    "print(f\"El multibase del valor digest es: {multihash_b32}\")"
   ]
  },
  {
   "cell_type": "markdown",
   "metadata": {},
   "source": [
    "Y con esta información del CID, el nodo de IPFS valida que el hash aplicado al dato binario es igual al valor Digest que tendría que ser."
   ]
  }
 ],
 "metadata": {
  "kernelspec": {
   "display_name": ".venv-web3-edu-projects",
   "language": "python",
   "name": "python3"
  },
  "language_info": {
   "codemirror_mode": {
    "name": "ipython",
    "version": 3
   },
   "file_extension": ".py",
   "mimetype": "text/x-python",
   "name": "python",
   "nbconvert_exporter": "python",
   "pygments_lexer": "ipython3",
   "version": "3.12.3"
  }
 },
 "nbformat": 4,
 "nbformat_minor": 2
}
